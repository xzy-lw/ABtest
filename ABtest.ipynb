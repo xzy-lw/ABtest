{
 "cells": [
  {
   "cell_type": "code",
   "execution_count": 2,
   "metadata": {},
   "outputs": [],
   "source": [
    "import pandas as pd\n",
    "import numpy as np\n",
    "import matplotlib.pyplot as plt\n",
    "%matplotlib inline"
   ]
  },
  {
   "cell_type": "markdown",
   "metadata": {},
   "source": [
    "#### 数据集解释：\n",
    "#### emb_tb_2.csv:用户特征数据集\n",
    "#### effct_tb.csv:广告点击情况数据集\n",
    "#### seed_cand_tb.csv:用户类型数据集\n",
    "#### 本报告主要使用广告点击情况数据，主要涉及字段如下：\n",
    "#### dmp_id:营销策略编号（源数据文档未做说明，这个根据情况设定为1.对照组，2.营销策略一，3.营销策略二）\n",
    "#### user_id:支付宝用户id\n",
    "#### label:用户当天是否点击活动广告(0:未点击，1：点击)"
   ]
  },
  {
   "cell_type": "code",
   "execution_count": 3,
   "metadata": {},
   "outputs": [
    {
     "data": {
      "text/html": [
       "<div>\n",
       "<style scoped>\n",
       "    .dataframe tbody tr th:only-of-type {\n",
       "        vertical-align: middle;\n",
       "    }\n",
       "\n",
       "    .dataframe tbody tr th {\n",
       "        vertical-align: top;\n",
       "    }\n",
       "\n",
       "    .dataframe thead th {\n",
       "        text-align: right;\n",
       "    }\n",
       "</style>\n",
       "<table border=\"1\" class=\"dataframe\">\n",
       "  <thead>\n",
       "    <tr style=\"text-align: right;\">\n",
       "      <th></th>\n",
       "      <th>user_id</th>\n",
       "      <th>label</th>\n",
       "      <th>dmp_id</th>\n",
       "    </tr>\n",
       "  </thead>\n",
       "  <tbody>\n",
       "    <tr>\n",
       "      <th>0</th>\n",
       "      <td>1</td>\n",
       "      <td>0</td>\n",
       "      <td>1</td>\n",
       "    </tr>\n",
       "    <tr>\n",
       "      <th>1</th>\n",
       "      <td>1000004</td>\n",
       "      <td>0</td>\n",
       "      <td>1</td>\n",
       "    </tr>\n",
       "    <tr>\n",
       "      <th>2</th>\n",
       "      <td>1000004</td>\n",
       "      <td>0</td>\n",
       "      <td>2</td>\n",
       "    </tr>\n",
       "  </tbody>\n",
       "</table>\n",
       "</div>"
      ],
      "text/plain": [
       "   user_id  label  dmp_id\n",
       "0        1      0       1\n",
       "1  1000004      0       1\n",
       "2  1000004      0       2"
      ]
     },
     "execution_count": 3,
     "metadata": {},
     "output_type": "execute_result"
    }
   ],
   "source": [
    "#加载数据\n",
    "data = pd.read_csv('F:/数据分析/ABtest_data/effect_tb.csv',header = None)\n",
    "data.columns = [\"dt\",\"user_id\",\"label\",\"dmp_id\"]\n",
    "#日志天数属性用户上，删除该列\n",
    "data = data.drop(columns = \"dt\")\n",
    "data.head(3)"
   ]
  },
  {
   "cell_type": "code",
   "execution_count": 4,
   "metadata": {},
   "outputs": [
    {
     "data": {
      "text/html": [
       "<div>\n",
       "<style scoped>\n",
       "    .dataframe tbody tr th:only-of-type {\n",
       "        vertical-align: middle;\n",
       "    }\n",
       "\n",
       "    .dataframe tbody tr th {\n",
       "        vertical-align: top;\n",
       "    }\n",
       "\n",
       "    .dataframe thead th {\n",
       "        text-align: right;\n",
       "    }\n",
       "</style>\n",
       "<table border=\"1\" class=\"dataframe\">\n",
       "  <thead>\n",
       "    <tr style=\"text-align: right;\">\n",
       "      <th></th>\n",
       "      <th>user_id</th>\n",
       "      <th>label</th>\n",
       "      <th>dmp_id</th>\n",
       "    </tr>\n",
       "  </thead>\n",
       "  <tbody>\n",
       "    <tr>\n",
       "      <th>count</th>\n",
       "      <td>2.645958e+06</td>\n",
       "      <td>2.645958e+06</td>\n",
       "      <td>2.645958e+06</td>\n",
       "    </tr>\n",
       "    <tr>\n",
       "      <th>mean</th>\n",
       "      <td>3.112995e+06</td>\n",
       "      <td>1.456297e-02</td>\n",
       "      <td>1.395761e+00</td>\n",
       "    </tr>\n",
       "    <tr>\n",
       "      <th>std</th>\n",
       "      <td>1.828262e+06</td>\n",
       "      <td>1.197952e-01</td>\n",
       "      <td>6.920480e-01</td>\n",
       "    </tr>\n",
       "    <tr>\n",
       "      <th>min</th>\n",
       "      <td>1.000000e+00</td>\n",
       "      <td>0.000000e+00</td>\n",
       "      <td>1.000000e+00</td>\n",
       "    </tr>\n",
       "    <tr>\n",
       "      <th>25%</th>\n",
       "      <td>1.526772e+06</td>\n",
       "      <td>0.000000e+00</td>\n",
       "      <td>1.000000e+00</td>\n",
       "    </tr>\n",
       "    <tr>\n",
       "      <th>50%</th>\n",
       "      <td>3.062184e+06</td>\n",
       "      <td>0.000000e+00</td>\n",
       "      <td>1.000000e+00</td>\n",
       "    </tr>\n",
       "    <tr>\n",
       "      <th>75%</th>\n",
       "      <td>4.721132e+06</td>\n",
       "      <td>0.000000e+00</td>\n",
       "      <td>2.000000e+00</td>\n",
       "    </tr>\n",
       "    <tr>\n",
       "      <th>max</th>\n",
       "      <td>6.265402e+06</td>\n",
       "      <td>1.000000e+00</td>\n",
       "      <td>3.000000e+00</td>\n",
       "    </tr>\n",
       "  </tbody>\n",
       "</table>\n",
       "</div>"
      ],
      "text/plain": [
       "            user_id         label        dmp_id\n",
       "count  2.645958e+06  2.645958e+06  2.645958e+06\n",
       "mean   3.112995e+06  1.456297e-02  1.395761e+00\n",
       "std    1.828262e+06  1.197952e-01  6.920480e-01\n",
       "min    1.000000e+00  0.000000e+00  1.000000e+00\n",
       "25%    1.526772e+06  0.000000e+00  1.000000e+00\n",
       "50%    3.062184e+06  0.000000e+00  1.000000e+00\n",
       "75%    4.721132e+06  0.000000e+00  2.000000e+00\n",
       "max    6.265402e+06  1.000000e+00  3.000000e+00"
      ]
     },
     "execution_count": 4,
     "metadata": {},
     "output_type": "execute_result"
    }
   ],
   "source": [
    "# 查看计数，平均数，方差，最小值和四分位数，最大值\n",
    "data.describe()"
   ]
  },
  {
   "cell_type": "markdown",
   "metadata": {},
   "source": [
    "### 重复值处理"
   ]
  },
  {
   "cell_type": "code",
   "execution_count": 5,
   "metadata": {},
   "outputs": [
    {
     "data": {
      "text/plain": [
       "(2645958, 3)"
      ]
     },
     "execution_count": 5,
     "metadata": {},
     "output_type": "execute_result"
    }
   ],
   "source": [
    "data.shape"
   ]
  },
  {
   "cell_type": "code",
   "execution_count": 6,
   "metadata": {},
   "outputs": [
    {
     "data": {
      "text/plain": [
       "user_id    2410683\n",
       "label            2\n",
       "dmp_id           3\n",
       "dtype: int64"
      ]
     },
     "execution_count": 6,
     "metadata": {},
     "output_type": "execute_result"
    }
   ],
   "source": [
    "data.nunique()"
   ]
  },
  {
   "cell_type": "markdown",
   "metadata": {},
   "source": [
    "数据行与独立用户数不统一，检查是否存在重复行。"
   ]
  },
  {
   "cell_type": "code",
   "execution_count": 7,
   "metadata": {},
   "outputs": [
    {
     "data": {
      "text/html": [
       "<div>\n",
       "<style scoped>\n",
       "    .dataframe tbody tr th:only-of-type {\n",
       "        vertical-align: middle;\n",
       "    }\n",
       "\n",
       "    .dataframe tbody tr th {\n",
       "        vertical-align: top;\n",
       "    }\n",
       "\n",
       "    .dataframe thead th {\n",
       "        text-align: right;\n",
       "    }\n",
       "</style>\n",
       "<table border=\"1\" class=\"dataframe\">\n",
       "  <thead>\n",
       "    <tr style=\"text-align: right;\">\n",
       "      <th></th>\n",
       "      <th>user_id</th>\n",
       "      <th>label</th>\n",
       "      <th>dmp_id</th>\n",
       "    </tr>\n",
       "  </thead>\n",
       "  <tbody>\n",
       "    <tr>\n",
       "      <th>8529</th>\n",
       "      <td>1027</td>\n",
       "      <td>0</td>\n",
       "      <td>1</td>\n",
       "    </tr>\n",
       "    <tr>\n",
       "      <th>1485546</th>\n",
       "      <td>1027</td>\n",
       "      <td>0</td>\n",
       "      <td>1</td>\n",
       "    </tr>\n",
       "    <tr>\n",
       "      <th>1579415</th>\n",
       "      <td>1471</td>\n",
       "      <td>0</td>\n",
       "      <td>1</td>\n",
       "    </tr>\n",
       "    <tr>\n",
       "      <th>127827</th>\n",
       "      <td>1471</td>\n",
       "      <td>0</td>\n",
       "      <td>1</td>\n",
       "    </tr>\n",
       "    <tr>\n",
       "      <th>404862</th>\n",
       "      <td>2468</td>\n",
       "      <td>0</td>\n",
       "      <td>1</td>\n",
       "    </tr>\n",
       "    <tr>\n",
       "      <th>...</th>\n",
       "      <td>...</td>\n",
       "      <td>...</td>\n",
       "      <td>...</td>\n",
       "    </tr>\n",
       "    <tr>\n",
       "      <th>1382121</th>\n",
       "      <td>6264633</td>\n",
       "      <td>0</td>\n",
       "      <td>1</td>\n",
       "    </tr>\n",
       "    <tr>\n",
       "      <th>1382245</th>\n",
       "      <td>6264940</td>\n",
       "      <td>0</td>\n",
       "      <td>1</td>\n",
       "    </tr>\n",
       "    <tr>\n",
       "      <th>2575140</th>\n",
       "      <td>6264940</td>\n",
       "      <td>0</td>\n",
       "      <td>1</td>\n",
       "    </tr>\n",
       "    <tr>\n",
       "      <th>1382306</th>\n",
       "      <td>6265082</td>\n",
       "      <td>0</td>\n",
       "      <td>3</td>\n",
       "    </tr>\n",
       "    <tr>\n",
       "      <th>2575171</th>\n",
       "      <td>6265082</td>\n",
       "      <td>0</td>\n",
       "      <td>3</td>\n",
       "    </tr>\n",
       "  </tbody>\n",
       "</table>\n",
       "<p>25966 rows × 3 columns</p>\n",
       "</div>"
      ],
      "text/plain": [
       "         user_id  label  dmp_id\n",
       "8529        1027      0       1\n",
       "1485546     1027      0       1\n",
       "1579415     1471      0       1\n",
       "127827      1471      0       1\n",
       "404862      2468      0       1\n",
       "...          ...    ...     ...\n",
       "1382121  6264633      0       1\n",
       "1382245  6264940      0       1\n",
       "2575140  6264940      0       1\n",
       "1382306  6265082      0       3\n",
       "2575171  6265082      0       3\n",
       "\n",
       "[25966 rows x 3 columns]"
      ]
     },
     "execution_count": 7,
     "metadata": {},
     "output_type": "execute_result"
    }
   ],
   "source": [
    "data[data.duplicated(keep = False)].sort_values(by=[\"user_id\"])"
   ]
  },
  {
   "cell_type": "code",
   "execution_count": 8,
   "metadata": {},
   "outputs": [
    {
     "data": {
      "text/html": [
       "<div>\n",
       "<style scoped>\n",
       "    .dataframe tbody tr th:only-of-type {\n",
       "        vertical-align: middle;\n",
       "    }\n",
       "\n",
       "    .dataframe tbody tr th {\n",
       "        vertical-align: top;\n",
       "    }\n",
       "\n",
       "    .dataframe thead th {\n",
       "        text-align: right;\n",
       "    }\n",
       "</style>\n",
       "<table border=\"1\" class=\"dataframe\">\n",
       "  <thead>\n",
       "    <tr style=\"text-align: right;\">\n",
       "      <th></th>\n",
       "      <th>user_id</th>\n",
       "      <th>label</th>\n",
       "      <th>dmp_id</th>\n",
       "    </tr>\n",
       "  </thead>\n",
       "  <tbody>\n",
       "  </tbody>\n",
       "</table>\n",
       "</div>"
      ],
      "text/plain": [
       "Empty DataFrame\n",
       "Columns: [user_id, label, dmp_id]\n",
       "Index: []"
      ]
     },
     "execution_count": 8,
     "metadata": {},
     "output_type": "execute_result"
    }
   ],
   "source": [
    "#删除重复值\n",
    "data = data.drop_duplicates()\n",
    "data[data.duplicated(keep = False)]"
   ]
  },
  {
   "cell_type": "markdown",
   "metadata": {},
   "source": [
    "### 3.空值处理"
   ]
  },
  {
   "cell_type": "code",
   "execution_count": 9,
   "metadata": {},
   "outputs": [
    {
     "name": "stdout",
     "output_type": "stream",
     "text": [
      "<class 'pandas.core.frame.DataFrame'>\n",
      "Int64Index: 2632975 entries, 0 to 2645957\n",
      "Data columns (total 3 columns):\n",
      " #   Column   Non-Null Count    Dtype\n",
      "---  ------   --------------    -----\n",
      " 0   user_id  2632975 non-null  int64\n",
      " 1   label    2632975 non-null  int64\n",
      " 2   dmp_id   2632975 non-null  int64\n",
      "dtypes: int64(3)\n",
      "memory usage: 80.4 MB\n"
     ]
    }
   ],
   "source": [
    "data.info(null_counts = True)"
   ]
  },
  {
   "cell_type": "code",
   "execution_count": 10,
   "metadata": {},
   "outputs": [],
   "source": [
    "#### 数据集没有空值可以不用处理"
   ]
  },
  {
   "cell_type": "markdown",
   "metadata": {},
   "source": [
    "### 4.异常值检查\n",
    "##### 通过透视表格检查各属性字段是否存在不合理取值"
   ]
  },
  {
   "cell_type": "code",
   "execution_count": 11,
   "metadata": {},
   "outputs": [
    {
     "data": {
      "text/html": [
       "<div>\n",
       "<style scoped>\n",
       "    .dataframe tbody tr th:only-of-type {\n",
       "        vertical-align: middle;\n",
       "    }\n",
       "\n",
       "    .dataframe tbody tr th {\n",
       "        vertical-align: top;\n",
       "    }\n",
       "\n",
       "    .dataframe thead th {\n",
       "        text-align: right;\n",
       "    }\n",
       "</style>\n",
       "<table border=\"1\" class=\"dataframe\">\n",
       "  <thead>\n",
       "    <tr style=\"text-align: right;\">\n",
       "      <th>label</th>\n",
       "      <th>0</th>\n",
       "      <th>1</th>\n",
       "      <th>All</th>\n",
       "    </tr>\n",
       "    <tr>\n",
       "      <th>dmp_id</th>\n",
       "      <th></th>\n",
       "      <th></th>\n",
       "      <th></th>\n",
       "    </tr>\n",
       "  </thead>\n",
       "  <tbody>\n",
       "    <tr>\n",
       "      <th>1</th>\n",
       "      <td>1881745</td>\n",
       "      <td>23918</td>\n",
       "      <td>1905663</td>\n",
       "    </tr>\n",
       "    <tr>\n",
       "      <th>2</th>\n",
       "      <td>404811</td>\n",
       "      <td>6296</td>\n",
       "      <td>411107</td>\n",
       "    </tr>\n",
       "    <tr>\n",
       "      <th>3</th>\n",
       "      <td>307923</td>\n",
       "      <td>8282</td>\n",
       "      <td>316205</td>\n",
       "    </tr>\n",
       "    <tr>\n",
       "      <th>All</th>\n",
       "      <td>2594479</td>\n",
       "      <td>38496</td>\n",
       "      <td>2632975</td>\n",
       "    </tr>\n",
       "  </tbody>\n",
       "</table>\n",
       "</div>"
      ],
      "text/plain": [
       "label         0      1      All\n",
       "dmp_id                         \n",
       "1       1881745  23918  1905663\n",
       "2        404811   6296   411107\n",
       "3        307923   8282   316205\n",
       "All     2594479  38496  2632975"
      ]
     },
     "execution_count": 11,
     "metadata": {},
     "output_type": "execute_result"
    }
   ],
   "source": [
    "data.pivot_table(index = \"dmp_id\",columns = \"label\",values = \"user_id\",aggfunc = \"count\",margins = True)"
   ]
  },
  {
   "cell_type": "markdown",
   "metadata": {},
   "source": [
    "属性字段没有发现一场自，无需进行处理"
   ]
  },
  {
   "cell_type": "markdown",
   "metadata": {},
   "source": [
    "### 5.数据类型"
   ]
  },
  {
   "cell_type": "code",
   "execution_count": 12,
   "metadata": {},
   "outputs": [
    {
     "data": {
      "text/plain": [
       "user_id    int64\n",
       "label      int64\n",
       "dmp_id     int64\n",
       "dtype: object"
      ]
     },
     "execution_count": 12,
     "metadata": {},
     "output_type": "execute_result"
    }
   ],
   "source": [
    "data.dtypes"
   ]
  },
  {
   "cell_type": "markdown",
   "metadata": {},
   "source": [
    "数据类型正常不需要转换"
   ]
  },
  {
   "cell_type": "markdown",
   "metadata": {},
   "source": [
    "### 2.2样本容量检验\n",
    "一般采用样本量计算工具：sample size calculator.使用可以看自己写的ABtest学习文档"
   ]
  },
  {
   "cell_type": "code",
   "execution_count": 13,
   "metadata": {},
   "outputs": [
    {
     "data": {
      "text/plain": [
       "0.012551012429794775"
      ]
     },
     "execution_count": 13,
     "metadata": {},
     "output_type": "execute_result"
    }
   ],
   "source": [
    "data[data[\"dmp_id\"] == 1][\"label\"].mean()"
   ]
  },
  {
   "cell_type": "markdown",
   "metadata": {},
   "source": [
    "这个数字是对照组的点击率，为1.26%，我们需要的新的营销策略能让广告点击率至少提高1个百分点，那么\n",
    "我们在网站中https://www.evanmiller.org/ab-testing/sample-size.html\n",
    "    baseline conversion rate 框中输入1.26\n",
    "    minimum detectable effect 框中输入 1\n",
    "    计算得出我们实验所需要的的最小样本量为2167"
   ]
  },
  {
   "cell_type": "code",
   "execution_count": 14,
   "metadata": {},
   "outputs": [
    {
     "data": {
      "text/plain": [
       "1    1905663\n",
       "2     411107\n",
       "3     316205\n",
       "Name: dmp_id, dtype: int64"
      ]
     },
     "execution_count": 14,
     "metadata": {},
     "output_type": "execute_result"
    }
   ],
   "source": [
    "#查看每个组中的样本数\n",
    "data[\"dmp_id\"].value_counts()"
   ]
  },
  {
   "cell_type": "markdown",
   "metadata": {},
   "source": [
    "可以看到三种策略的样本数都比我们最小样本数量大，因此样本合适"
   ]
  },
  {
   "cell_type": "code",
   "execution_count": 15,
   "metadata": {},
   "outputs": [],
   "source": [
    "#保存清洗好的数据备用\n",
    "data.to_csv(\"F:/数据分析/ABtest_data/output.csv\",index = False)"
   ]
  },
  {
   "cell_type": "markdown",
   "metadata": {},
   "source": [
    "### 3.假设验证\n",
    "先观察几组实验的点击情况"
   ]
  },
  {
   "cell_type": "code",
   "execution_count": 16,
   "metadata": {},
   "outputs": [
    {
     "name": "stdout",
     "output_type": "stream",
     "text": [
      "对照组： 0.012551012429794775\n",
      "策略一组： 0.015314747742072015\n",
      "策略二组： 0.026191869198779274\n"
     ]
    }
   ],
   "source": [
    "print(\"对照组：\",data[data[\"dmp_id\"] ==1][\"label\"].mean())\n",
    "print(\"策略一组：\",data[data[\"dmp_id\"] ==2][\"label\"].mean())\n",
    "print(\"策略二组：\",data[data[\"dmp_id\"] ==3][\"label\"].mean())"
   ]
  },
  {
   "cell_type": "markdown",
   "metadata": {},
   "source": [
    "从点击率来看，策略一和策略二在对照组的基础上都有一定的提升。\n",
    "其中策略一提高了0.2个百分点，策略二提高了1.3个百分点，只有策略二满足了我们对点击率提升最小值的要求\n",
    "接下来需要进行假设验证，来看看策略二的点击率提升是否显著"
   ]
  },
  {
   "cell_type": "markdown",
   "metadata": {},
   "source": [
    "#### a.零假设和责备假设\n",
    "##### 记对照组点击率为p1，策略二点击率为p2，则：\n",
    "零假设设为H0：p1>=p2\n",
    "备择假设为H1：p1< p2\n",
    "##### b.分布类型，检验类型和显著性水平\n",
    "样本服从两点分布，独立双样本，样本大小为n>30，总体均值和标准差未知，所以采用z检验，显著性水平取0.05"
   ]
  },
  {
   "cell_type": "markdown",
   "metadata": {},
   "source": [
    "#### 3.1公式计算"
   ]
  },
  {
   "cell_type": "code",
   "execution_count": 20,
   "metadata": {},
   "outputs": [
    {
     "name": "stdout",
     "output_type": "stream",
     "text": [
      "总和点击率： 0.014492310074225832\n"
     ]
    },
    {
     "name": "stderr",
     "output_type": "stream",
     "text": [
      "C:\\Users\\18042\\anaconda3\\lib\\site-packages\\ipykernel_launcher.py:6: UserWarning: Boolean Series key will be reindexed to match DataFrame index.\n",
      "  \n",
      "C:\\Users\\18042\\anaconda3\\lib\\site-packages\\ipykernel_launcher.py:7: UserWarning: Boolean Series key will be reindexed to match DataFrame index.\n",
      "  import sys\n"
     ]
    }
   ],
   "source": [
    "#用户数\n",
    "n_old = len(data[data.dmp_id == 1]) #对照组\n",
    "n_new = len(data[data.dmp_id == 3]) #策略二\n",
    "\n",
    "#点击数\n",
    "c_old = len(data[data.dmp_id == 1][data.label == 1])\n",
    "c_new = len(data[data.dmp_id == 3][data.label == 1])\n",
    "\n",
    "#计算点击率\n",
    "try:\n",
    "    if c_new == 0:\n",
    "        print(\"不做运算\")\n",
    "    else:\n",
    "        r_old = c_old / n_old\n",
    "        r_new = c_new / c_new\n",
    "except:\n",
    "    print(\"除数为0\")\n",
    "#总和点击率\n",
    "r = (c_old + c_new) / (n_old + n_new)\n",
    "print(\"总和点击率：\", r)"
   ]
  },
  {
   "cell_type": "code",
   "execution_count": 22,
   "metadata": {},
   "outputs": [
    {
     "name": "stdout",
     "output_type": "stream",
     "text": [
      "检验统计量z: -4302.928619508961\n"
     ]
    }
   ],
   "source": [
    "#计算检验统计量Z\n",
    "z = (r_old - r_new) / np.sqrt(r*(1-r)*(1/n_old + 1/n_new))\n",
    "print(\"检验统计量z:\", z)"
   ]
  },
  {
   "cell_type": "code",
   "execution_count": 23,
   "metadata": {},
   "outputs": [
    {
     "data": {
      "text/plain": [
       "-1.6448536269514729"
      ]
     },
     "execution_count": 23,
     "metadata": {},
     "output_type": "execute_result"
    }
   ],
   "source": [
    "#看显著水平0.05对应的Z的分位数\n",
    "from scipy.stats import norm\n",
    "z_alpha = norm.ppf(0.05)\n",
    "z_alpha"
   ]
  },
  {
   "cell_type": "markdown",
   "metadata": {},
   "source": [
    "z_aloha = -1.644，检验统计量z为-4032 ,该检验为左侧单尾检验，拒绝域为{z<z_alpha}.所以我们可以得出结论，原假设不成立，策略二点击率的提升在统计上是显著的"
   ]
  },
  {
   "cell_type": "code",
   "execution_count": 24,
   "metadata": {},
   "outputs": [
    {
     "name": "stdout",
     "output_type": "stream",
     "text": [
      "检验统计量z： -59.44168632985996 ，p值： 0.0\n"
     ]
    }
   ],
   "source": [
    "import statsmodels.stats.proportion as sp\n",
    "z_score, p = sp.proportions_ztest([c_old, c_new],[n_old, n_new], alternative = \"smaller\")\n",
    "print(\"检验统计量z：\",z_score,\"，p值：\", p)"
   ]
  },
  {
   "cell_type": "markdown",
   "metadata": {},
   "source": [
    "p值约等于0.p<显著值，所以结论一样，拒绝原假设。\n",
    "综上所述，两种营销策略中，策略二对广告点击率有显著提升效果，且相较于对照组点击率提升了近一倍，因而在两组营销策略中应选择第二组进行推广"
   ]
  },
  {
   "cell_type": "code",
   "execution_count": null,
   "metadata": {},
   "outputs": [],
   "source": []
  }
 ],
 "metadata": {
  "kernelspec": {
   "display_name": "Python 3",
   "language": "python",
   "name": "python3"
  },
  "language_info": {
   "codemirror_mode": {
    "name": "ipython",
    "version": 3
   },
   "file_extension": ".py",
   "mimetype": "text/x-python",
   "name": "python",
   "nbconvert_exporter": "python",
   "pygments_lexer": "ipython3",
   "version": "3.7.6"
  }
 },
 "nbformat": 4,
 "nbformat_minor": 4
}
